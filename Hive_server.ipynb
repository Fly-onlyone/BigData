{
 "cells": [
  {
   "cell_type": "code",
   "id": "initial_id",
   "metadata": {
    "collapsed": true,
    "ExecuteTime": {
     "end_time": "2025-03-26T02:53:03.438214Z",
     "start_time": "2025-03-26T02:52:56.203539Z"
    }
   },
   "source": [
    "from pyhive import hive\n",
    "\n",
    "# 1. Kết nối đến HiveServer2\n",
    "conn = hive.Connection(host='localhost', port=10000, username='hive', database='default')\n",
    "cursor = conn.cursor()\n",
    "\n",
    "# 2. Tạo database nếu chưa có\n",
    "cursor.execute(\"CREATE DATABASE IF NOT EXISTS cancer_db\")\n",
    "cursor.execute(\"USE cancer_db\")\n",
    "\n",
    "# 3. Xóa bảng nếu đã tồn tại\n",
    "cursor.execute(\"DROP TABLE IF EXISTS cancer_table\")\n",
    "cursor.execute(\"DROP TABLE IF EXISTS cancer_table_stage\")  # Xóa bảng tạm nếu có\n",
    "\n",
    "# 4. Tạo bảng chính hỗ trợ transactional (PHẢI lưu dưới dạng ORC, bucketed và có thuộc tính transactional)\n",
    "cursor.execute(\"\"\"\n",
    "  CREATE TABLE cancer_table (\n",
    "    patient_id STRING,\n",
    "    age INT,\n",
    "    gender INT,\n",
    "    air_pollution INT,\n",
    "    alcohol_use INT,\n",
    "    dust_allergy INT,\n",
    "    occupational_hazards INT,\n",
    "    genetic_risk INT,\n",
    "    chronic_lung_disease INT,\n",
    "    balanced_diet INT,\n",
    "    obesity INT,\n",
    "    smoking INT,\n",
    "    passive_smoker INT,\n",
    "    chest_pain INT,\n",
    "    coughing_of_blood INT,\n",
    "    fatigue INT,\n",
    "    weight_loss INT,\n",
    "    shortness_of_breath INT,\n",
    "    wheezing INT,\n",
    "    swallowing_difficulty INT,\n",
    "    clubbing_of_finger_nails INT,\n",
    "    frequent_cold INT,\n",
    "    dry_cough INT,\n",
    "    snoring INT,\n",
    "    level STRING\n",
    "  )\n",
    "  CLUSTERED BY (patient_id) INTO 4 BUCKETS\n",
    "  STORED AS ORC\n",
    "  TBLPROPERTIES (\n",
    "    \"transactional\"=\"true\"\n",
    "  )\n",
    "\"\"\")\n",
    "\n",
    "# 5. Tạo bảng tạm để tải dữ liệu từ CSV (bảng này dùng TEXTFILE để LOAD DATA được)\n",
    "cursor.execute(\"\"\"\n",
    "  CREATE TABLE cancer_table_stage (\n",
    "    patient_id STRING,\n",
    "    age INT,\n",
    "    gender INT,\n",
    "    air_pollution INT,\n",
    "    alcohol_use INT,\n",
    "    dust_allergy INT,\n",
    "    occupational_hazards INT,\n",
    "    genetic_risk INT,\n",
    "    chronic_lung_disease INT,\n",
    "    balanced_diet INT,\n",
    "    obesity INT,\n",
    "    smoking INT,\n",
    "    passive_smoker INT,\n",
    "    chest_pain INT,\n",
    "    coughing_of_blood INT,\n",
    "    fatigue INT,\n",
    "    weight_loss INT,\n",
    "    shortness_of_breath INT,\n",
    "    wheezing INT,\n",
    "    swallowing_difficulty INT,\n",
    "    clubbing_of_finger_nails INT,\n",
    "    frequent_cold INT,\n",
    "    dry_cough INT,\n",
    "    snoring INT,\n",
    "    level STRING\n",
    "  )\n",
    "  ROW FORMAT DELIMITED\n",
    "  FIELDS TERMINATED BY ','\n",
    "  STORED AS TEXTFILE\n",
    "  TBLPROPERTIES (\"skip.header.line.count\"=\"1\")\n",
    "\"\"\")\n",
    "\n",
    "# 6. Load dữ liệu vào bảng tạm\n",
    "cursor.execute(\"\"\"\n",
    "  LOAD DATA LOCAL INPATH '/data/Cancer.csv'\n",
    "  OVERWRITE INTO TABLE cancer_table_stage\n",
    "\"\"\")\n",
    "print(\"✅ CSV loaded into cancer_table_stage.\")\n",
    "\n",
    "# 7. Thiết lập các tham số ACID để cho phép chèn dữ liệu vào bảng transactional.\n",
    "cursor.execute(\"SET hive.support.concurrency=true\")\n",
    "cursor.execute(\"SET hive.txn.manager=org.apache.hadoop.hive.ql.lockmgr.DbTxnManager\")\n",
    "cursor.execute(\"SET hive.compactor.initiator.on=true\")\n",
    "cursor.execute(\"SET hive.compactor.worker.threads=1\")\n",
    "\n",
    "# 8. Chuyển dữ liệu từ bảng tạm vào bảng chính (dùng INSERT INTO SELECT)\n",
    "cursor.execute(\"\"\"\n",
    "  INSERT INTO cancer_table SELECT * FROM cancer_table_stage\n",
    "\"\"\")\n",
    "print(\"✅ Data inserted into cancer_table.\")\n",
    "\n",
    "# 9. Kiểm tra dữ liệu\n",
    "cursor.execute(\"SELECT COUNT(*) FROM cancer_table\")\n",
    "row_count = cursor.fetchall()\n",
    "print(f\"📊 Total rows in cancer_table: {row_count[0][0]}\")\n",
    "\n",
    "# 10. Đóng kết nối\n",
    "cursor.close()\n",
    "conn.close()\n"
   ],
   "outputs": [
    {
     "name": "stdout",
     "output_type": "stream",
     "text": [
      "✅ CSV loaded into cancer_table_stage.\n",
      "✅ Data inserted into cancer_table.\n",
      "📊 Total rows in cancer_table: 1000\n"
     ]
    }
   ],
   "execution_count": 1
  },
  {
   "metadata": {
    "ExecuteTime": {
     "end_time": "2025-03-26T02:53:21.496445Z",
     "start_time": "2025-03-26T02:53:18.379934Z"
    }
   },
   "cell_type": "code",
   "source": [
    "from pyhive import hive\n",
    "\n",
    "# 1. Kết nối đến HiveServer2 và chọn database.\n",
    "conn = hive.Connection(host='localhost', port=10000, username='hive', database='cancer_db')\n",
    "cursor = conn.cursor()\n",
    "\n",
    "# 3. Chèn dòng dữ liệu mới vào bảng transactional.\n",
    "# Chú ý: Bảng có 25 cột, nên ta phải cung cấp đúng 25 giá trị theo thứ tự:\n",
    "# patient_id, age, gender, air_pollution, alcohol_use, dust_allergy, occupational_hazards, genetic_risk,\n",
    "# chronic_lung_disease, balanced_diet, obesity, smoking, passive_smoker, chest_pain, coughing_of_blood,\n",
    "# fatigue, weight_loss, shortness_of_breath, wheezing, swallowing_difficulty, clubbing_of_finger_nails,\n",
    "# frequent_cold, dry_cough, snoring, level\n",
    "\n",
    "insert_new_query = \"\"\"\n",
    "INSERT INTO cancer_table VALUES\n",
    "('P2000', 50, 1, 4, 1, 2, 3, 1, 1, 2, 3, 0, 0, 1, 0, 1, 0, 1, 0, 0, 0, 0, 0, 0, 'Medium')\n",
    "\"\"\"\n",
    "\n",
    "try:\n",
    "    cursor.execute(insert_new_query)\n",
    "    conn.commit()\n",
    "    print(\"✅ New row inserted successfully!\")\n",
    "except Exception as e:\n",
    "    print(\"❌ Error inserting new row:\", e)\n",
    "\n",
    "# 4. Kiểm tra xem dòng mới đã được chèn vào hay chưa.\n",
    "cursor.execute(\"SELECT * FROM cancer_table WHERE patient_id = 'P2001'\")\n",
    "new_row = cursor.fetchall()\n",
    "print(\"New row:\")\n",
    "print(new_row)\n",
    "\n",
    "\n",
    "# Đóng kết nối.\n",
    "# cursor.close()\n",
    "# conn.close()\n"
   ],
   "id": "68411acfcf7c71ef",
   "outputs": [
    {
     "name": "stdout",
     "output_type": "stream",
     "text": [
      "✅ New row inserted successfully!\n",
      "New row:\n",
      "[('P2000', 50, 1, 4, 1, 2, 3, 1, 1, 2, 3, 0, 0, 1, 0, 1, 0, 1, 0, 0, 0, 0, 0, 0, 'Medium')]\n"
     ]
    }
   ],
   "execution_count": 3
  },
  {
   "metadata": {
    "ExecuteTime": {
     "end_time": "2025-03-26T02:53:10.845939Z",
     "start_time": "2025-03-26T02:53:10.670753Z"
    }
   },
   "cell_type": "code",
   "source": [
    "from pyhive import hive\n",
    "\n",
    "# Kết nối đến Hive\n",
    "conn = hive.Connection(host='localhost', port=10000, username='hive', database='cancer_db')\n",
    "cursor = conn.cursor()\n",
    "\n",
    "cursor.execute(\"SET hive.support.concurrency\")\n",
    "print(cursor.fetchall())\n",
    "cursor.execute(\"SET hive.txn.manager\")\n",
    "print(cursor.fetchall())\n",
    "cursor.execute(\"SET hive.compactor.initiator.on\")\n",
    "print(cursor.fetchall())\n",
    "cursor.execute(\"SET hive.compactor.worker.threads\")\n",
    "print(cursor.fetchall())"
   ],
   "id": "6660f62dc97f4e8d",
   "outputs": [
    {
     "name": "stdout",
     "output_type": "stream",
     "text": [
      "[('hive.support.concurrency=true',)]\n",
      "[('hive.txn.manager=org.apache.hadoop.hive.ql.lockmgr.DbTxnManager',)]\n",
      "[('hive.compactor.initiator.on=true',)]\n",
      "[('hive.compactor.worker.threads=1',)]\n"
     ]
    }
   ],
   "execution_count": 2
  },
  {
   "metadata": {
    "ExecuteTime": {
     "end_time": "2025-03-26T03:21:56.179945Z",
     "start_time": "2025-03-26T03:21:55.830814Z"
    }
   },
   "cell_type": "code",
   "source": [
    "conn = hive.Connection(\n",
    "    host=\"localhost\",\n",
    "    port=10000,\n",
    "    username=\"hive\",\n",
    "    database=\"cancer_db\"\n",
    ")\n",
    "cursor = conn.cursor()\n",
    "cursor.execute(\"SELECT * FROM cancer_table WHERE patient_id = 'P2001'\")\n",
    "new_row = cursor.fetchall()\n",
    "print(\"New row:\")\n",
    "print(new_row)"
   ],
   "id": "cbe1f8000080654",
   "outputs": [
    {
     "name": "stdout",
     "output_type": "stream",
     "text": [
      "New row:\n",
      "[]\n"
     ]
    }
   ],
   "execution_count": 11
  },
  {
   "metadata": {
    "ExecuteTime": {
     "end_time": "2025-03-26T03:05:01.324301Z",
     "start_time": "2025-03-26T03:05:00.040902Z"
    }
   },
   "cell_type": "code",
   "source": [
    "cursor.execute(\"SELECT COUNT(*) FROM cancer_table\")\n",
    "row_count = cursor.fetchall()\n",
    "print(f\"📊 Total rows in cancer_table: {row_count[0][0]}\")"
   ],
   "id": "6fee30326d3ba688",
   "outputs": [
    {
     "name": "stdout",
     "output_type": "stream",
     "text": [
      "📊 Total rows in cancer_table: 1006\n"
     ]
    }
   ],
   "execution_count": 5
  },
  {
   "metadata": {
    "ExecuteTime": {
     "end_time": "2025-03-26T03:21:23.449827Z",
     "start_time": "2025-03-26T03:21:20.633952Z"
    }
   },
   "cell_type": "code",
   "source": [
    "from pyhive import hive\n",
    "\n",
    "# Kết nối đến HiveServer2\n",
    "conn = hive.Connection(\n",
    "    host=\"localhost\",\n",
    "    port=10000,\n",
    "    username=\"hive\",\n",
    "    database=\"cancer_db\"\n",
    ")\n",
    "cursor = conn.cursor()\n",
    "\n",
    "try:\n",
    "    # Xóa dòng có patient_id là P2001\n",
    "    delete_sql = \"DELETE FROM cancer_table WHERE patient_id = 'P2001'\"\n",
    "    cursor.execute(delete_sql)\n",
    "    conn.commit()\n",
    "    print(\"✅ Row with patient_id='P2001' has been deleted successfully.\")\n",
    "except Exception as e:\n",
    "    print(f\"❌ Lỗi khi xóa dữ liệu: {e}\")\n",
    "\n",
    "# Đóng kết nối (tùy chọn)\n",
    "cursor.close()\n",
    "conn.close()\n"
   ],
   "id": "20b6996019e98843",
   "outputs": [
    {
     "name": "stdout",
     "output_type": "stream",
     "text": [
      "✅ Row with patient_id='P2001' has been deleted successfully.\n"
     ]
    }
   ],
   "execution_count": 9
  }
 ],
 "metadata": {
  "kernelspec": {
   "display_name": "Python 3",
   "language": "python",
   "name": "python3"
  },
  "language_info": {
   "codemirror_mode": {
    "name": "ipython",
    "version": 2
   },
   "file_extension": ".py",
   "mimetype": "text/x-python",
   "name": "python",
   "nbconvert_exporter": "python",
   "pygments_lexer": "ipython2",
   "version": "2.7.6"
  }
 },
 "nbformat": 4,
 "nbformat_minor": 5
}
