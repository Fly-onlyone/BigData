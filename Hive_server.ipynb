{
 "cells": [
  {
   "cell_type": "code",
   "id": "initial_id",
   "metadata": {
    "collapsed": true,
    "ExecuteTime": {
     "end_time": "2025-03-20T01:57:01.736949Z",
     "start_time": "2025-03-20T01:56:58.192294Z"
    }
   },
   "source": [
    "from pyspark.sql import SparkSession\n",
    "\n",
    "spark = SparkSession.builder \\\n",
    "    .appName(\"Example\") \\\n",
    "    .config(\"spark.sql.warehouse.dir\", \"/spark-warehouse\") \\\n",
    "    .config(\"hive.metastore.uris\", \"thrift://hive-metastore:9083\") \\\n",
    "    .enableHiveSupport() \\\n",
    "    .getOrCreate()\n",
    "\n",
    "# Test the connection by running a simple query.\n",
    "databases = spark.sql(\"SHOW DATABASES\")\n",
    "databases.show()\n"
   ],
   "outputs": [
    {
     "name": "stderr",
     "output_type": "stream",
     "text": [
      "Warning: Ignoring non-spark config property: hive.metastore.uris=thrift://hive-metastore:9083\n"
     ]
    },
    {
     "name": "stdout",
     "output_type": "stream",
     "text": [
      "2025-03-20 01:56:58 WARN  NativeCodeLoader:62 - Unable to load native-hadoop library for your platform... using builtin-java classes where applicable\n"
     ]
    },
    {
     "name": "stderr",
     "output_type": "stream",
     "text": [
      "Setting default log level to \"WARN\".\n",
      "To adjust logging level use sc.setLogLevel(newLevel). For SparkR, use setLogLevel(newLevel).\n"
     ]
    },
    {
     "name": "stdout",
     "output_type": "stream",
     "text": [
      "+------------+\n",
      "|databaseName|\n",
      "+------------+\n",
      "|   cancer_db|\n",
      "|     default|\n",
      "+------------+\n",
      "\n"
     ]
    }
   ],
   "execution_count": 1
  },
  {
   "metadata": {
    "ExecuteTime": {
     "end_time": "2025-03-20T01:57:01.822567Z",
     "start_time": "2025-03-20T01:57:01.747820Z"
    }
   },
   "cell_type": "code",
   "source": "spark.sql(\"CREATE DATABASE IF NOT EXISTS cancer_db\")",
   "id": "fb9c69354768f4e8",
   "outputs": [
    {
     "data": {
      "text/plain": [
       "DataFrame[]"
      ]
     },
     "execution_count": 2,
     "metadata": {},
     "output_type": "execute_result"
    }
   ],
   "execution_count": 2
  },
  {
   "metadata": {
    "ExecuteTime": {
     "end_time": "2025-03-20T01:57:01.882949Z",
     "start_time": "2025-03-20T01:57:01.858685Z"
    }
   },
   "cell_type": "code",
   "source": "spark.sql(\"SHOW DATABASES\").show()\n",
   "id": "d5e35a86d864c5cd",
   "outputs": [
    {
     "name": "stdout",
     "output_type": "stream",
     "text": [
      "+------------+\n",
      "|databaseName|\n",
      "+------------+\n",
      "|   cancer_db|\n",
      "|     default|\n",
      "+------------+\n",
      "\n"
     ]
    }
   ],
   "execution_count": 3
  },
  {
   "metadata": {
    "ExecuteTime": {
     "end_time": "2025-03-20T01:57:02.121715Z",
     "start_time": "2025-03-20T01:57:01.944498Z"
    }
   },
   "cell_type": "code",
   "source": "!ls -ld /spark-warehouse",
   "id": "ed61cc943990a26",
   "outputs": [
    {
     "name": "stdout",
     "output_type": "stream",
     "text": [
      "drwxrwxrwx 3 root root 4096 Mar 20 01:52 /spark-warehouse\r\n"
     ]
    }
   ],
   "execution_count": 4
  },
  {
   "metadata": {
    "ExecuteTime": {
     "end_time": "2025-03-20T01:57:03.011657Z",
     "start_time": "2025-03-20T01:57:02.177246Z"
    }
   },
   "cell_type": "code",
   "source": [
    "df = spark.read \\\n",
    "    .option(\"header\", \"true\") \\\n",
    "    .option(\"inferSchema\", \"true\") \\\n",
    "    .csv(\"/data/Cancer.csv\")\n"
   ],
   "id": "74ab5f2bfcb2001b",
   "outputs": [],
   "execution_count": 5
  },
  {
   "metadata": {
    "ExecuteTime": {
     "end_time": "2025-03-20T01:57:03.275148Z",
     "start_time": "2025-03-20T01:57:03.101780Z"
    }
   },
   "cell_type": "code",
   "source": [
    "# df.printSchema()\n",
    "df.show(5)\n"
   ],
   "id": "9cd264e14735e5b2",
   "outputs": [
    {
     "name": "stdout",
     "output_type": "stream",
     "text": [
      "+----------+---+------+-------------+-----------+------------+--------------------+------------+--------------------+-------------+-------+-------+--------------+----------+-----------------+-------+-----------+-------------------+--------+---------------------+------------------------+-------------+---------+-------+------+\n",
      "|Patient Id|Age|Gender|Air Pollution|Alcohol use|Dust Allergy|OccuPational Hazards|Genetic Risk|chronic Lung Disease|Balanced Diet|Obesity|Smoking|Passive Smoker|Chest Pain|Coughing of Blood|Fatigue|Weight Loss|Shortness of Breath|Wheezing|Swallowing Difficulty|Clubbing of Finger Nails|Frequent Cold|Dry Cough|Snoring| Level|\n",
      "+----------+---+------+-------------+-----------+------------+--------------------+------------+--------------------+-------------+-------+-------+--------------+----------+-----------------+-------+-----------+-------------------+--------+---------------------+------------------------+-------------+---------+-------+------+\n",
      "|        P1| 33|     1|            2|          4|           5|                   4|           3|                   2|            2|      4|      3|             2|         2|                4|      3|          4|                  2|       2|                    3|                       1|            2|        3|      4|   Low|\n",
      "|       P10| 17|     1|            3|          1|           5|                   3|           4|                   2|            2|      2|      2|             4|         2|                3|      1|          3|                  7|       8|                    6|                       2|            1|        7|      2|Medium|\n",
      "|      P100| 35|     1|            4|          5|           6|                   5|           5|                   4|            6|      7|      2|             3|         4|                8|      8|          7|                  9|       2|                    1|                       4|            6|        7|      2|  High|\n",
      "|     P1000| 37|     1|            7|          7|           7|                   7|           6|                   7|            7|      7|      7|             7|         7|                8|      4|          2|                  3|       1|                    4|                       5|            6|        7|      5|  High|\n",
      "|      P101| 46|     1|            6|          8|           7|                   7|           7|                   6|            7|      7|      8|             7|         7|                9|      3|          2|                  4|       1|                    4|                       2|            4|        2|      3|  High|\n",
      "+----------+---+------+-------------+-----------+------------+--------------------+------------+--------------------+-------------+-------+-------+--------------+----------+-----------------+-------+-----------+-------------------+--------+---------------------+------------------------+-------------+---------+-------+------+\n",
      "only showing top 5 rows\n",
      "\n"
     ]
    }
   ],
   "execution_count": 6
  },
  {
   "metadata": {
    "ExecuteTime": {
     "end_time": "2025-03-20T01:57:03.287744Z",
     "start_time": "2025-03-20T01:57:03.281860Z"
    }
   },
   "cell_type": "code",
   "source": "spark.conf.get(\"spark.sql.warehouse.dir\")\n",
   "id": "e5fb5b47c5279cf0",
   "outputs": [
    {
     "data": {
      "text/plain": [
       "'/spark-warehouse'"
      ]
     },
     "execution_count": 7,
     "metadata": {},
     "output_type": "execute_result"
    }
   ],
   "execution_count": 7
  },
  {
   "metadata": {
    "ExecuteTime": {
     "end_time": "2025-03-20T01:57:04.440434Z",
     "start_time": "2025-03-20T01:57:03.513510Z"
    }
   },
   "cell_type": "code",
   "source": [
    "new_columns = [c.replace(' ', '_') for c in df.columns]\n",
    "df = df.toDF(*new_columns)\n",
    "\n",
    "# Drop existing table if exists\n",
    "spark.sql(\"DROP TABLE IF EXISTS cancer_db.cancer_table\")\n",
    "\n",
    "# Clean column names\n",
    "new_columns = [c.replace(' ', '_') for c in df.columns]\n",
    "df = df.toDF(*new_columns)\n",
    "\n",
    "# Write to table\n",
    "df.write \\\n",
    "    .mode(\"overwrite\") \\\n",
    "    .option(\"path\", \"/spark-warehouse/cancer_db.db/cancer_table\") \\\n",
    "    .saveAsTable(\"cancer_db.cancer_table\")\n",
    "\n",
    "# Verify table\n",
    "spark.sql(\"SHOW TABLES IN cancer_db\").show()\n",
    "\n",
    "# Read back the table\n",
    "df_read = spark.sql(\"SELECT * FROM cancer_db.cancer_table\")\n",
    "df_read.show()\n"
   ],
   "id": "6fc50f643adab745",
   "outputs": [
    {
     "name": "stdout",
     "output_type": "stream",
     "text": [
      "+---------+------------+-----------+\n",
      "| database|   tableName|isTemporary|\n",
      "+---------+------------+-----------+\n",
      "|cancer_db|cancer_table|      false|\n",
      "+---------+------------+-----------+\n",
      "\n",
      "+----------+---+------+-------------+-----------+------------+--------------------+------------+--------------------+-------------+-------+-------+--------------+----------+-----------------+-------+-----------+-------------------+--------+---------------------+------------------------+-------------+---------+-------+------+\n",
      "|Patient_Id|Age|Gender|Air_Pollution|Alcohol_use|Dust_Allergy|OccuPational_Hazards|Genetic_Risk|chronic_Lung_Disease|Balanced_Diet|Obesity|Smoking|Passive_Smoker|Chest_Pain|Coughing_of_Blood|Fatigue|Weight_Loss|Shortness_of_Breath|Wheezing|Swallowing_Difficulty|Clubbing_of_Finger_Nails|Frequent_Cold|Dry_Cough|Snoring| Level|\n",
      "+----------+---+------+-------------+-----------+------------+--------------------+------------+--------------------+-------------+-------+-------+--------------+----------+-----------------+-------+-----------+-------------------+--------+---------------------+------------------------+-------------+---------+-------+------+\n",
      "|        P1| 33|     1|            2|          4|           5|                   4|           3|                   2|            2|      4|      3|             2|         2|                4|      3|          4|                  2|       2|                    3|                       1|            2|        3|      4|   Low|\n",
      "|       P10| 17|     1|            3|          1|           5|                   3|           4|                   2|            2|      2|      2|             4|         2|                3|      1|          3|                  7|       8|                    6|                       2|            1|        7|      2|Medium|\n",
      "|      P100| 35|     1|            4|          5|           6|                   5|           5|                   4|            6|      7|      2|             3|         4|                8|      8|          7|                  9|       2|                    1|                       4|            6|        7|      2|  High|\n",
      "|     P1000| 37|     1|            7|          7|           7|                   7|           6|                   7|            7|      7|      7|             7|         7|                8|      4|          2|                  3|       1|                    4|                       5|            6|        7|      5|  High|\n",
      "|      P101| 46|     1|            6|          8|           7|                   7|           7|                   6|            7|      7|      8|             7|         7|                9|      3|          2|                  4|       1|                    4|                       2|            4|        2|      3|  High|\n",
      "|      P102| 35|     1|            4|          5|           6|                   5|           5|                   4|            6|      7|      2|             3|         4|                8|      8|          7|                  9|       2|                    1|                       4|            6|        7|      2|  High|\n",
      "|      P103| 52|     2|            2|          4|           5|                   4|           3|                   2|            2|      4|      3|             2|         2|                4|      3|          4|                  2|       2|                    3|                       1|            2|        3|      4|   Low|\n",
      "|      P104| 28|     2|            3|          1|           4|                   3|           2|                   3|            4|      3|      1|             4|         3|                1|      3|          2|                  2|       4|                    2|                       2|            3|        4|      3|   Low|\n",
      "|      P105| 35|     2|            4|          5|           6|                   5|           6|                   5|            5|      5|      6|             6|         6|                5|      1|          4|                  3|       2|                    4|                       6|            2|        4|      1|Medium|\n",
      "|      P106| 46|     1|            2|          3|           4|                   2|           4|                   3|            3|      3|      2|             3|         4|                4|      1|          2|                  4|       6|                    5|                       4|            2|        1|      5|Medium|\n",
      "|      P107| 44|     1|            6|          7|           7|                   7|           7|                   6|            7|      7|      7|             8|         7|                7|      5|          3|                  2|       7|                    8|                       2|            4|        5|      3|  High|\n",
      "|      P108| 64|     2|            6|          8|           7|                   7|           7|                   6|            7|      7|      7|             8|         7|                7|      9|          6|                  5|       7|                    2|                       4|            3|        1|      4|  High|\n",
      "|      P109| 39|     2|            4|          5|           6|                   6|           5|                   4|            6|      6|      6|             6|         6|                6|      5|          3|                  2|       4|                    3|                       1|            7|        5|      6|Medium|\n",
      "|       P11| 34|     1|            6|          7|           7|                   7|           6|                   7|            7|      7|      7|             7|         7|                8|      4|          2|                  3|       1|                    4|                       5|            6|        7|      5|  High|\n",
      "|      P110| 27|     2|            3|          1|           4|                   2|           3|                   2|            3|      3|      2|             2|         4|                2|      2|          2|                  3|       4|                    1|                       5|            2|        6|      2|   Low|\n",
      "|      P111| 73|     1|            5|          6|           6|                   5|           6|                   5|            6|      5|      8|             5|         5|                5|      4|          3|                  6|       2|                    1|                       2|            1|        6|      2|Medium|\n",
      "|      P112| 17|     1|            3|          1|           5|                   3|           4|                   2|            2|      2|      2|             4|         2|                3|      1|          3|                  7|       8|                    6|                       2|            1|        7|      2|Medium|\n",
      "|      P113| 34|     1|            6|          7|           7|                   7|           6|                   7|            7|      7|      7|             7|         7|                8|      4|          2|                  3|       1|                    4|                       5|            6|        7|      5|  High|\n",
      "|      P114| 36|     1|            6|          7|           7|                   7|           7|                   7|            6|      7|      7|             7|         7|                7|      8|          5|                  7|       6|                    7|                       8|            7|        6|      2|  High|\n",
      "|      P115| 14|     1|            2|          4|           5|                   6|           5|                   5|            4|      6|      5|             4|         6|                5|      5|          3|                  2|       1|                    4|                       7|            2|        1|      6|Medium|\n",
      "+----------+---+------+-------------+-----------+------------+--------------------+------------+--------------------+-------------+-------+-------+--------------+----------+-----------------+-------+-----------+-------------------+--------+---------------------+------------------------+-------------+---------+-------+------+\n",
      "only showing top 20 rows\n",
      "\n"
     ]
    }
   ],
   "execution_count": 8
  }
 ],
 "metadata": {
  "kernelspec": {
   "display_name": "Python 3",
   "language": "python",
   "name": "python3"
  },
  "language_info": {
   "codemirror_mode": {
    "name": "ipython",
    "version": 2
   },
   "file_extension": ".py",
   "mimetype": "text/x-python",
   "name": "python",
   "nbconvert_exporter": "python",
   "pygments_lexer": "ipython2",
   "version": "2.7.6"
  }
 },
 "nbformat": 4,
 "nbformat_minor": 5
}
