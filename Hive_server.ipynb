{
 "cells": [
  {
   "cell_type": "code",
   "id": "initial_id",
   "metadata": {
    "collapsed": true,
    "ExecuteTime": {
     "end_time": "2025-03-20T14:24:17.553170Z",
     "start_time": "2025-03-20T14:24:16.695005Z"
    }
   },
   "source": [
    "from pyhive import hive\n",
    "\n",
    "# 1. Connect to HiveServer2.\n",
    "# Note: We connect initially to the 'default' database so that we can create our target database if needed.\n",
    "conn = hive.Connection(host='hive-server', port=10000, username='hive', database='default')\n",
    "cursor = conn.cursor()\n",
    "\n",
    "# 2. Create the target database and switch to it.\n",
    "cursor.execute(\"CREATE DATABASE IF NOT EXISTS cancer_db\")\n",
    "cursor.execute(\"USE cancer_db\")\n",
    "\n",
    "# 3. Drop the table if it already exists.\n",
    "cursor.execute(\"DROP TABLE IF EXISTS cancer_table\")\n",
    "\n",
    "# 4. Create the table with columns matching your CSV.\n",
    "# Adjust the data types as needed. Here, we assume that most numeric columns are INT and level is a STRING.\n",
    "cursor.execute(\"\"\"\n",
    "  CREATE TABLE cancer_table (\n",
    "    patient_id STRING,\n",
    "    age INT,\n",
    "    gender INT,\n",
    "    air_pollution INT,\n",
    "    alcohol_use INT,\n",
    "    dust_allergy INT,\n",
    "    occupational_hazards INT,\n",
    "    genetic_risk INT,\n",
    "    chronic_lung_disease INT,\n",
    "    balanced_diet INT,\n",
    "    obesity INT,\n",
    "    smoking INT,\n",
    "    passive_smoker INT,\n",
    "    chest_pain INT,\n",
    "    coughing_of_blood INT,\n",
    "    fatigue INT,\n",
    "    weight_loss INT,\n",
    "    shortness_of_breath INT,\n",
    "    wheezing INT,\n",
    "    swallowing_difficulty INT,\n",
    "    clubbing_of_finger_nails INT,\n",
    "    frequent_cold INT,\n",
    "    dry_cough INT,\n",
    "    snoring INT,\n",
    "    level STRING\n",
    "  )\n",
    "  ROW FORMAT DELIMITED\n",
    "  FIELDS TERMINATED BY ','\n",
    "  STORED AS TEXTFILE\n",
    "  TBLPROPERTIES (\"skip.header.line.count\"=\"1\")\n",
    "\"\"\")\n",
    "\n",
    "# 5. Load the data into the table.\n",
    "# Use the LOCAL keyword so that Hive looks for the file on the client’s local filesystem.\n",
    "cursor.execute(\"\"\"\n",
    "  LOAD DATA LOCAL INPATH '/data/Cancer.csv'\n",
    "  OVERWRITE INTO TABLE cancer_table\n",
    "\"\"\")\n",
    "\n",
    "print(\"Data loaded successfully into cancer_db.cancer_table.\")\n",
    "\n",
    "# 6. Optionally, query the table to verify.\n",
    "cursor.execute(\"SELECT * FROM cancer_table LIMIT 10\")\n",
    "rows = cursor.fetchall()\n",
    "print(\"First 10 rows in cancer_table:\")\n",
    "for row in rows:\n",
    "    print(row)\n",
    "\n",
    "# Close connection\n",
    "cursor.close()\n",
    "conn.close()\n"
   ],
   "outputs": [
    {
     "name": "stdout",
     "output_type": "stream",
     "text": [
      "Data loaded successfully into cancer_db.cancer_table.\n",
      "First 10 rows in cancer_table:\n",
      "('P1', 33, 1, 2, 4, 5, 4, 3, 2, 2, 4, 3, 2, 2, 4, 3, 4, 2, 2, 3, 1, 2, 3, 4, 'Low')\n",
      "('P10', 17, 1, 3, 1, 5, 3, 4, 2, 2, 2, 2, 4, 2, 3, 1, 3, 7, 8, 6, 2, 1, 7, 2, 'Medium')\n",
      "('P100', 35, 1, 4, 5, 6, 5, 5, 4, 6, 7, 2, 3, 4, 8, 8, 7, 9, 2, 1, 4, 6, 7, 2, 'High')\n",
      "('P1000', 37, 1, 7, 7, 7, 7, 6, 7, 7, 7, 7, 7, 7, 8, 4, 2, 3, 1, 4, 5, 6, 7, 5, 'High')\n",
      "('P101', 46, 1, 6, 8, 7, 7, 7, 6, 7, 7, 8, 7, 7, 9, 3, 2, 4, 1, 4, 2, 4, 2, 3, 'High')\n",
      "('P102', 35, 1, 4, 5, 6, 5, 5, 4, 6, 7, 2, 3, 4, 8, 8, 7, 9, 2, 1, 4, 6, 7, 2, 'High')\n",
      "('P103', 52, 2, 2, 4, 5, 4, 3, 2, 2, 4, 3, 2, 2, 4, 3, 4, 2, 2, 3, 1, 2, 3, 4, 'Low')\n",
      "('P104', 28, 2, 3, 1, 4, 3, 2, 3, 4, 3, 1, 4, 3, 1, 3, 2, 2, 4, 2, 2, 3, 4, 3, 'Low')\n",
      "('P105', 35, 2, 4, 5, 6, 5, 6, 5, 5, 5, 6, 6, 6, 5, 1, 4, 3, 2, 4, 6, 2, 4, 1, 'Medium')\n",
      "('P106', 46, 1, 2, 3, 4, 2, 4, 3, 3, 3, 2, 3, 4, 4, 1, 2, 4, 6, 5, 4, 2, 1, 5, 'Medium')\n"
     ]
    }
   ],
   "execution_count": 6
  },
  {
   "metadata": {},
   "cell_type": "code",
   "outputs": [],
   "execution_count": null,
   "source": "",
   "id": "9c64f2f76190fbc2"
  }
 ],
 "metadata": {
  "kernelspec": {
   "display_name": "Python 3",
   "language": "python",
   "name": "python3"
  },
  "language_info": {
   "codemirror_mode": {
    "name": "ipython",
    "version": 2
   },
   "file_extension": ".py",
   "mimetype": "text/x-python",
   "name": "python",
   "nbconvert_exporter": "python",
   "pygments_lexer": "ipython2",
   "version": "2.7.6"
  }
 },
 "nbformat": 4,
 "nbformat_minor": 5
}
