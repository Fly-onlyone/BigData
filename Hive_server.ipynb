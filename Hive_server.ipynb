{
 "cells": [
  {
   "cell_type": "code",
   "id": "initial_id",
   "metadata": {
    "collapsed": true,
    "ExecuteTime": {
     "end_time": "2025-03-25T13:39:48.497624Z",
     "start_time": "2025-03-25T13:39:46.313538Z"
    }
   },
   "source": [
    "from pyhive import hive\n",
    "\n",
    "# 1. Connect to HiveServer2.\n",
    "# Note: We connect initially to the 'default' database so that we can create our target database if needed.\n",
    "conn = hive.Connection(host='localhost', port=10000, username='hive', database='default')\n",
    "cursor = conn.cursor()\n",
    "\n",
    "# 2. Create the target database and switch to it.\n",
    "cursor.execute(\"CREATE DATABASE IF NOT EXISTS cancer_db\")\n",
    "cursor.execute(\"USE cancer_db\")\n",
    "\n",
    "# 3. Drop the table if it already exists.\n",
    "cursor.execute(\"DROP TABLE IF EXISTS cancer_table\")\n",
    "\n",
    "# 4. Create the table with columns matching your CSV.\n",
    "# Adjust the data types as needed. Here, we assume that most numeric columns are INT and level is a STRING.\n",
    "cursor.execute(\"\"\"\n",
    "  CREATE TABLE cancer_table (\n",
    "    patient_id STRING,\n",
    "    age INT,\n",
    "    gender INT,\n",
    "    air_pollution INT,\n",
    "    alcohol_use INT,\n",
    "    dust_allergy INT,\n",
    "    occupational_hazards INT,\n",
    "    genetic_risk INT,\n",
    "    chronic_lung_disease INT,\n",
    "    balanced_diet INT,\n",
    "    obesity INT,\n",
    "    smoking INT,\n",
    "    passive_smoker INT,\n",
    "    chest_pain INT,\n",
    "    coughing_of_blood INT,\n",
    "    fatigue INT,\n",
    "    weight_loss INT,\n",
    "    shortness_of_breath INT,\n",
    "    wheezing INT,\n",
    "    swallowing_difficulty INT,\n",
    "    clubbing_of_finger_nails INT,\n",
    "    frequent_cold INT,\n",
    "    dry_cough INT,\n",
    "    snoring INT,\n",
    "    level STRING\n",
    "  )\n",
    "  ROW FORMAT DELIMITED\n",
    "  FIELDS TERMINATED BY ','\n",
    "  STORED AS TEXTFILE\n",
    "  TBLPROPERTIES (\"skip.header.line.count\"=\"1\")\n",
    "\"\"\")\n",
    "\n",
    "# 5. Load the data into the table.\n",
    "# Use the LOCAL keyword so that Hive looks for the file on the client’s local filesystem.\n",
    "cursor.execute(\"\"\"\n",
    "  LOAD DATA LOCAL INPATH '/data/Cancer.csv'\n",
    "  OVERWRITE INTO TABLE cancer_table\n",
    "\"\"\")\n",
    "\n",
    "print(\"Data loaded successfully into cancer_db.cancer_table.\")\n",
    "\n",
    "# 6. Optionally, query the table to verify.\n",
    "cursor.execute(\"SELECT * FROM cancer_table LIMIT 10\")\n",
    "rows = cursor.fetchall()\n",
    "print(\"First 10 rows in cancer_table:\")\n",
    "for row in rows:\n",
    "    print(row)\n",
    "\n",
    "# Close connection\n",
    "cursor.close()\n",
    "conn.close()"
   ],
   "outputs": [
    {
     "name": "stdout",
     "output_type": "stream",
     "text": [
      "Data loaded successfully into cancer_db.cancer_table.\n",
      "First 10 rows in cancer_table:\n",
      "('P1', 33, 1, 2, 4, 5, 4, 3, 2, 2, 4, 3, 2, 2, 4, 3, 4, 2, 2, 3, 1, 2, 3, 4, 'Low')\n",
      "('P10', 17, 1, 3, 1, 5, 3, 4, 2, 2, 2, 2, 4, 2, 3, 1, 3, 7, 8, 6, 2, 1, 7, 2, 'Medium')\n",
      "('P100', 35, 1, 4, 5, 6, 5, 5, 4, 6, 7, 2, 3, 4, 8, 8, 7, 9, 2, 1, 4, 6, 7, 2, 'High')\n",
      "('P1000', 37, 1, 7, 7, 7, 7, 6, 7, 7, 7, 7, 7, 7, 8, 4, 2, 3, 1, 4, 5, 6, 7, 5, 'High')\n",
      "('P101', 46, 1, 6, 8, 7, 7, 7, 6, 7, 7, 8, 7, 7, 9, 3, 2, 4, 1, 4, 2, 4, 2, 3, 'High')\n",
      "('P102', 35, 1, 4, 5, 6, 5, 5, 4, 6, 7, 2, 3, 4, 8, 8, 7, 9, 2, 1, 4, 6, 7, 2, 'High')\n",
      "('P103', 52, 2, 2, 4, 5, 4, 3, 2, 2, 4, 3, 2, 2, 4, 3, 4, 2, 2, 3, 1, 2, 3, 4, 'Low')\n",
      "('P104', 28, 2, 3, 1, 4, 3, 2, 3, 4, 3, 1, 4, 3, 1, 3, 2, 2, 4, 2, 2, 3, 4, 3, 'Low')\n",
      "('P105', 35, 2, 4, 5, 6, 5, 6, 5, 5, 5, 6, 6, 6, 5, 1, 4, 3, 2, 4, 6, 2, 4, 1, 'Medium')\n",
      "('P106', 46, 1, 2, 3, 4, 2, 4, 3, 3, 3, 2, 3, 4, 4, 1, 2, 4, 6, 5, 4, 2, 1, 5, 'Medium')\n"
     ]
    }
   ],
   "execution_count": 16
  },
  {
   "metadata": {
    "ExecuteTime": {
     "end_time": "2025-03-25T13:29:25.037875Z",
     "start_time": "2025-03-25T13:29:24.886423Z"
    }
   },
   "cell_type": "code",
   "source": [
    "from pyhive import hive\n",
    "conn = hive.Connection(host='localhost', port=10000, username='hive', database='default')\n",
    "cursor = conn.cursor()\n",
    "cursor.execute(\"USE cancer_db\")\n",
    "cursor.execute(\"SELECT * FROM cancer_table WHERE patient_id = 'P1000';\")\n",
    "rows = cursor.fetchall()\n",
    "print(rows)"
   ],
   "id": "9c64f2f76190fbc2",
   "outputs": [
    {
     "ename": "OperationalError",
     "evalue": "TExecuteStatementResp(status=TStatus(statusCode=3, infoMessages=[\"*org.apache.hive.service.cli.HiveSQLException:Error while compiling statement: FAILED: ParseException line 1:53 cannot recognize input near ''P1000'' ';' '<EOF>' in constant:17:16\", 'org.apache.hive.service.cli.operation.Operation:toSQLException:Operation.java:380', 'org.apache.hive.service.cli.operation.SQLOperation:prepare:SQLOperation.java:206', 'org.apache.hive.service.cli.operation.SQLOperation:runInternal:SQLOperation.java:290', 'org.apache.hive.service.cli.operation.Operation:run:Operation.java:320', 'org.apache.hive.service.cli.session.HiveSessionImpl:executeStatementInternal:HiveSessionImpl.java:530', 'org.apache.hive.service.cli.session.HiveSessionImpl:executeStatement:HiveSessionImpl.java:506', 'org.apache.hive.service.cli.CLIService:executeStatement:CLIService.java:280', 'org.apache.hive.service.cli.thrift.ThriftCLIService:ExecuteStatement:ThriftCLIService.java:531', 'org.apache.hive.service.rpc.thrift.TCLIService$Processor$ExecuteStatement:getResult:TCLIService.java:1437', 'org.apache.hive.service.rpc.thrift.TCLIService$Processor$ExecuteStatement:getResult:TCLIService.java:1422', 'org.apache.thrift.ProcessFunction:process:ProcessFunction.java:39', 'org.apache.thrift.TBaseProcessor:process:TBaseProcessor.java:39', 'org.apache.hive.service.auth.TSetIpAddressProcessor:process:TSetIpAddressProcessor.java:56', 'org.apache.thrift.server.TThreadPoolServer$WorkerProcess:run:TThreadPoolServer.java:286', 'java.util.concurrent.ThreadPoolExecutor:runWorker:ThreadPoolExecutor.java:1142', 'java.util.concurrent.ThreadPoolExecutor$Worker:run:ThreadPoolExecutor.java:617', 'java.lang.Thread:run:Thread.java:748', \"*org.apache.hadoop.hive.ql.parse.ParseException:line 1:53 cannot recognize input near ''P1000'' ';' '<EOF>' in constant:22:6\", 'org.apache.hadoop.hive.ql.parse.ParseDriver:parse:ParseDriver.java:211', 'org.apache.hadoop.hive.ql.parse.ParseUtils:parse:ParseUtils.java:77', 'org.apache.hadoop.hive.ql.parse.ParseUtils:parse:ParseUtils.java:70', 'org.apache.hadoop.hive.ql.Driver:compile:Driver.java:468', 'org.apache.hadoop.hive.ql.Driver:compileInternal:Driver.java:1317', 'org.apache.hadoop.hive.ql.Driver:compileAndRespond:Driver.java:1295', 'org.apache.hive.service.cli.operation.SQLOperation:prepare:SQLOperation.java:204'], sqlState='42000', errorCode=40000, errorMessage=\"Error while compiling statement: FAILED: ParseException line 1:53 cannot recognize input near ''P1000'' ';' '<EOF>' in constant\"), operationHandle=None)",
     "output_type": "error",
     "traceback": [
      "\u001B[1;31m---------------------------------------------------------------------------\u001B[0m",
      "\u001B[1;31mOperationalError\u001B[0m                          Traceback (most recent call last)",
      "Cell \u001B[1;32mIn[13], line 5\u001B[0m\n\u001B[0;32m      3\u001B[0m cursor \u001B[38;5;241m=\u001B[39m conn\u001B[38;5;241m.\u001B[39mcursor()\n\u001B[0;32m      4\u001B[0m cursor\u001B[38;5;241m.\u001B[39mexecute(\u001B[38;5;124m\"\u001B[39m\u001B[38;5;124mUSE cancer_db\u001B[39m\u001B[38;5;124m\"\u001B[39m)\n\u001B[1;32m----> 5\u001B[0m \u001B[43mcursor\u001B[49m\u001B[38;5;241;43m.\u001B[39;49m\u001B[43mexecute\u001B[49m\u001B[43m(\u001B[49m\u001B[38;5;124;43m\"\u001B[39;49m\u001B[38;5;124;43mSELECT * FROM cancer_table WHERE patient_id = \u001B[39;49m\u001B[38;5;124;43m'\u001B[39;49m\u001B[38;5;124;43mP1000\u001B[39;49m\u001B[38;5;124;43m'\u001B[39;49m\u001B[38;5;124;43m;\u001B[39;49m\u001B[38;5;124;43m\"\u001B[39;49m\u001B[43m)\u001B[49m\n\u001B[0;32m      6\u001B[0m rows \u001B[38;5;241m=\u001B[39m cursor\u001B[38;5;241m.\u001B[39mfetchall()\n\u001B[0;32m      7\u001B[0m \u001B[38;5;28mprint\u001B[39m(rows)\n",
      "File \u001B[1;32m~\\anaconda3\\envs\\BigData\\lib\\site-packages\\pyhive\\hive.py:481\u001B[0m, in \u001B[0;36mCursor.execute\u001B[1;34m(self, operation, parameters, **kwargs)\u001B[0m\n\u001B[0;32m    479\u001B[0m _logger\u001B[38;5;241m.\u001B[39mdebug(req)\n\u001B[0;32m    480\u001B[0m response \u001B[38;5;241m=\u001B[39m \u001B[38;5;28mself\u001B[39m\u001B[38;5;241m.\u001B[39m_connection\u001B[38;5;241m.\u001B[39mclient\u001B[38;5;241m.\u001B[39mExecuteStatement(req)\n\u001B[1;32m--> 481\u001B[0m \u001B[43m_check_status\u001B[49m\u001B[43m(\u001B[49m\u001B[43mresponse\u001B[49m\u001B[43m)\u001B[49m\n\u001B[0;32m    482\u001B[0m \u001B[38;5;28mself\u001B[39m\u001B[38;5;241m.\u001B[39m_operationHandle \u001B[38;5;241m=\u001B[39m response\u001B[38;5;241m.\u001B[39moperationHandle\n",
      "File \u001B[1;32m~\\anaconda3\\envs\\BigData\\lib\\site-packages\\pyhive\\hive.py:611\u001B[0m, in \u001B[0;36m_check_status\u001B[1;34m(response)\u001B[0m\n\u001B[0;32m    609\u001B[0m _logger\u001B[38;5;241m.\u001B[39mdebug(response)\n\u001B[0;32m    610\u001B[0m \u001B[38;5;28;01mif\u001B[39;00m response\u001B[38;5;241m.\u001B[39mstatus\u001B[38;5;241m.\u001B[39mstatusCode \u001B[38;5;241m!=\u001B[39m ttypes\u001B[38;5;241m.\u001B[39mTStatusCode\u001B[38;5;241m.\u001B[39mSUCCESS_STATUS:\n\u001B[1;32m--> 611\u001B[0m     \u001B[38;5;28;01mraise\u001B[39;00m OperationalError(response)\n",
      "\u001B[1;31mOperationalError\u001B[0m: TExecuteStatementResp(status=TStatus(statusCode=3, infoMessages=[\"*org.apache.hive.service.cli.HiveSQLException:Error while compiling statement: FAILED: ParseException line 1:53 cannot recognize input near ''P1000'' ';' '<EOF>' in constant:17:16\", 'org.apache.hive.service.cli.operation.Operation:toSQLException:Operation.java:380', 'org.apache.hive.service.cli.operation.SQLOperation:prepare:SQLOperation.java:206', 'org.apache.hive.service.cli.operation.SQLOperation:runInternal:SQLOperation.java:290', 'org.apache.hive.service.cli.operation.Operation:run:Operation.java:320', 'org.apache.hive.service.cli.session.HiveSessionImpl:executeStatementInternal:HiveSessionImpl.java:530', 'org.apache.hive.service.cli.session.HiveSessionImpl:executeStatement:HiveSessionImpl.java:506', 'org.apache.hive.service.cli.CLIService:executeStatement:CLIService.java:280', 'org.apache.hive.service.cli.thrift.ThriftCLIService:ExecuteStatement:ThriftCLIService.java:531', 'org.apache.hive.service.rpc.thrift.TCLIService$Processor$ExecuteStatement:getResult:TCLIService.java:1437', 'org.apache.hive.service.rpc.thrift.TCLIService$Processor$ExecuteStatement:getResult:TCLIService.java:1422', 'org.apache.thrift.ProcessFunction:process:ProcessFunction.java:39', 'org.apache.thrift.TBaseProcessor:process:TBaseProcessor.java:39', 'org.apache.hive.service.auth.TSetIpAddressProcessor:process:TSetIpAddressProcessor.java:56', 'org.apache.thrift.server.TThreadPoolServer$WorkerProcess:run:TThreadPoolServer.java:286', 'java.util.concurrent.ThreadPoolExecutor:runWorker:ThreadPoolExecutor.java:1142', 'java.util.concurrent.ThreadPoolExecutor$Worker:run:ThreadPoolExecutor.java:617', 'java.lang.Thread:run:Thread.java:748', \"*org.apache.hadoop.hive.ql.parse.ParseException:line 1:53 cannot recognize input near ''P1000'' ';' '<EOF>' in constant:22:6\", 'org.apache.hadoop.hive.ql.parse.ParseDriver:parse:ParseDriver.java:211', 'org.apache.hadoop.hive.ql.parse.ParseUtils:parse:ParseUtils.java:77', 'org.apache.hadoop.hive.ql.parse.ParseUtils:parse:ParseUtils.java:70', 'org.apache.hadoop.hive.ql.Driver:compile:Driver.java:468', 'org.apache.hadoop.hive.ql.Driver:compileInternal:Driver.java:1317', 'org.apache.hadoop.hive.ql.Driver:compileAndRespond:Driver.java:1295', 'org.apache.hive.service.cli.operation.SQLOperation:prepare:SQLOperation.java:204'], sqlState='42000', errorCode=40000, errorMessage=\"Error while compiling statement: FAILED: ParseException line 1:53 cannot recognize input near ''P1000'' ';' '<EOF>' in constant\"), operationHandle=None)"
     ]
    }
   ],
   "execution_count": 13
  },
  {
   "metadata": {
    "ExecuteTime": {
     "end_time": "2025-03-25T13:18:24.910697Z",
     "start_time": "2025-03-25T13:18:24.106514Z"
    }
   },
   "cell_type": "code",
   "source": [
    "import pandas as pd\n",
    "\n",
    "try:\n",
    "    cursor.execute(\"DESCRIBE cancer_table\")\n",
    "    schema_info = cursor.fetchall()\n",
    "\n",
    "    # Định dạng kết quả thành DataFrame\n",
    "    schema_df = pd.DataFrame(schema_info, columns=[\"Column Name\", \"Data Type\", \"Comment\"])\n",
    "except Exception as e:\n",
    "    print(f\"Lỗi khi lấy schema: {e}\")\n",
    "    schema_df = pd.DataFrame()\n",
    "print(schema_df)"
   ],
   "id": "68411acfcf7c71ef",
   "outputs": [
    {
     "name": "stdout",
     "output_type": "stream",
     "text": [
      "                 Column Name Data Type Comment\n",
      "0                 patient_id    string        \n",
      "1                        age       int        \n",
      "2                     gender       int        \n",
      "3              air_pollution       int        \n",
      "4                alcohol_use       int        \n",
      "5               dust_allergy       int        \n",
      "6       occupational_hazards       int        \n",
      "7               genetic_risk       int        \n",
      "8       chronic_lung_disease       int        \n",
      "9              balanced_diet       int        \n",
      "10                   obesity       int        \n",
      "11                   smoking       int        \n",
      "12            passive_smoker       int        \n",
      "13                chest_pain       int        \n",
      "14         coughing_of_blood       int        \n",
      "15                   fatigue       int        \n",
      "16               weight_loss       int        \n",
      "17       shortness_of_breath       int        \n",
      "18                  wheezing       int        \n",
      "19     swallowing_difficulty       int        \n",
      "20  clubbing_of_finger_nails       int        \n",
      "21             frequent_cold       int        \n",
      "22                 dry_cough       int        \n",
      "23                   snoring       int        \n",
      "24                     level    string        \n"
     ]
    }
   ],
   "execution_count": 9
  },
  {
   "metadata": {
    "ExecuteTime": {
     "end_time": "2025-03-25T13:41:38.698785Z",
     "start_time": "2025-03-25T13:41:38.571638Z"
    }
   },
   "cell_type": "code",
   "source": [
    "from pyhive import hive\n",
    "\n",
    "# Kết nối Hive\n",
    "conn = hive.Connection(host='localhost', port=10000, username='hive', database='cancer_db')\n",
    "cursor = conn.cursor()\n",
    "\n",
    "# Lệnh SQL chính xác\n",
    "query = \"\"\"\n",
    "INSERT OVERWRITE TABLE cancer_table\n",
    "SELECT * FROM cancer_table WHERE patient_id != 'P1000';\n",
    "\"\"\"\n",
    "\n",
    "try:\n",
    "    cursor.execute(query)\n",
    "    print(\"✅ Đã xóa P1000 thành công!\")\n",
    "except Exception as e:\n",
    "    print(f\"❌ Lỗi khi xóa P1000: {e}\")\n",
    "\n",
    "# Đóng kết nối\n",
    "cursor.close()\n",
    "conn.close()\n"
   ],
   "id": "9ccd3e9b78c89d4b",
   "outputs": [
    {
     "name": "stdout",
     "output_type": "stream",
     "text": [
      "❌ Lỗi khi xóa P1000: TExecuteStatementResp(status=TStatus(statusCode=3, infoMessages=[\"*org.apache.hive.service.cli.HiveSQLException:Error while compiling statement: FAILED: ParseException line 3:54 cannot recognize input near ''P1000'' ';' '<EOF>' in constant:17:16\", 'org.apache.hive.service.cli.operation.Operation:toSQLException:Operation.java:380', 'org.apache.hive.service.cli.operation.SQLOperation:prepare:SQLOperation.java:206', 'org.apache.hive.service.cli.operation.SQLOperation:runInternal:SQLOperation.java:290', 'org.apache.hive.service.cli.operation.Operation:run:Operation.java:320', 'org.apache.hive.service.cli.session.HiveSessionImpl:executeStatementInternal:HiveSessionImpl.java:530', 'org.apache.hive.service.cli.session.HiveSessionImpl:executeStatement:HiveSessionImpl.java:506', 'org.apache.hive.service.cli.CLIService:executeStatement:CLIService.java:280', 'org.apache.hive.service.cli.thrift.ThriftCLIService:ExecuteStatement:ThriftCLIService.java:531', 'org.apache.hive.service.rpc.thrift.TCLIService$Processor$ExecuteStatement:getResult:TCLIService.java:1437', 'org.apache.hive.service.rpc.thrift.TCLIService$Processor$ExecuteStatement:getResult:TCLIService.java:1422', 'org.apache.thrift.ProcessFunction:process:ProcessFunction.java:39', 'org.apache.thrift.TBaseProcessor:process:TBaseProcessor.java:39', 'org.apache.hive.service.auth.TSetIpAddressProcessor:process:TSetIpAddressProcessor.java:56', 'org.apache.thrift.server.TThreadPoolServer$WorkerProcess:run:TThreadPoolServer.java:286', 'java.util.concurrent.ThreadPoolExecutor:runWorker:ThreadPoolExecutor.java:1142', 'java.util.concurrent.ThreadPoolExecutor$Worker:run:ThreadPoolExecutor.java:617', 'java.lang.Thread:run:Thread.java:748', \"*org.apache.hadoop.hive.ql.parse.ParseException:line 3:54 cannot recognize input near ''P1000'' ';' '<EOF>' in constant:22:6\", 'org.apache.hadoop.hive.ql.parse.ParseDriver:parse:ParseDriver.java:211', 'org.apache.hadoop.hive.ql.parse.ParseUtils:parse:ParseUtils.java:77', 'org.apache.hadoop.hive.ql.parse.ParseUtils:parse:ParseUtils.java:70', 'org.apache.hadoop.hive.ql.Driver:compile:Driver.java:468', 'org.apache.hadoop.hive.ql.Driver:compileInternal:Driver.java:1317', 'org.apache.hadoop.hive.ql.Driver:compileAndRespond:Driver.java:1295', 'org.apache.hive.service.cli.operation.SQLOperation:prepare:SQLOperation.java:204'], sqlState='42000', errorCode=40000, errorMessage=\"Error while compiling statement: FAILED: ParseException line 3:54 cannot recognize input near ''P1000'' ';' '<EOF>' in constant\"), operationHandle=None)\n"
     ]
    }
   ],
   "execution_count": 17
  }
 ],
 "metadata": {
  "kernelspec": {
   "display_name": "Python 3",
   "language": "python",
   "name": "python3"
  },
  "language_info": {
   "codemirror_mode": {
    "name": "ipython",
    "version": 2
   },
   "file_extension": ".py",
   "mimetype": "text/x-python",
   "name": "python",
   "nbconvert_exporter": "python",
   "pygments_lexer": "ipython2",
   "version": "2.7.6"
  }
 },
 "nbformat": 4,
 "nbformat_minor": 5
}
