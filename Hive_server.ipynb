{
 "cells": [
  {
   "cell_type": "code",
   "id": "initial_id",
   "metadata": {
    "collapsed": true,
    "ExecuteTime": {
     "end_time": "2025-03-20T13:46:03.618149Z",
     "start_time": "2025-03-20T13:46:02.079610Z"
    }
   },
   "source": [
    "from pyhive import hive\n",
    "\n",
    "# Connect to Hive (adjust host/port as needed; here we're assuming the HiveServer is reachable on localhost:10000)\n",
    "\n",
    "# Instead of host='localhost', use host='hive-server'\n",
    "conn = hive.Connection(host='hive-server', port=10000, username='hive', database='default')\n",
    "cursor = conn.cursor()\n",
    "\n",
    "# Create the database if it doesn't exist (optional)\n",
    "cursor.execute(\"CREATE DATABASE IF NOT EXISTS cancer_db\")\n",
    "cursor.execute(\"USE cancer_db\")\n",
    "\n",
    "# Drop the table if it exists to start fresh\n",
    "cursor.execute(\"DROP TABLE IF EXISTS cancer_table\")\n",
    "\n",
    "# Create the table.\n",
    "# Modify the schema below to match the columns in Cancer.csv.\n",
    "cursor.execute(\"\"\"\n",
    "    CREATE TABLE cancer_table (\n",
    "        patient_id STRING,\n",
    "        age INT,\n",
    "        gender STRING,\n",
    "        air_pollution STRING,\n",
    "        alcohol_use STRING,\n",
    "        dust_allergy STRING,\n",
    "        occupational_hazards STRING,\n",
    "        genetic_risk STRING,\n",
    "        chronic_lung_disease STRING,\n",
    "        balanced_diet STRING,\n",
    "        obesity STRING,\n",
    "        smoking STRING,\n",
    "        passive_smoker STRING,\n",
    "        chest_pain STRING,\n",
    "        coughing_of_blood STRING,\n",
    "        fatigue STRING,\n",
    "        weight_loss STRING,\n",
    "        shortness_of_breath STRING,\n",
    "        wheezing STRING,\n",
    "        swallowing_difficulty STRING,\n",
    "        clubbing_of_finger_nails STRING,\n",
    "        frequent_cold STRING,\n",
    "        dry_cough STRING,\n",
    "        snoring STRING,\n",
    "        level STRING\n",
    "    )\n",
    "    ROW FORMAT DELIMITED\n",
    "    FIELDS TERMINATED BY ','\n",
    "    STORED AS TEXTFILE\n",
    "\"\"\")\n",
    "\n",
    "# Load data into the table from the CSV file.\n",
    "# The CSV file should be accessible at the specified path inside the Hive container.\n",
    "cursor.execute(\"\"\"\n",
    "    LOAD DATA LOCAL INPATH '/data/Cancer.csv'\n",
    "    OVERWRITE INTO TABLE cancer_table\n",
    "\"\"\")\n",
    "\n",
    "print(\"Data loaded successfully.\")\n"
   ],
   "outputs": [
    {
     "name": "stdout",
     "output_type": "stream",
     "text": [
      "Data loaded successfully.\n"
     ]
    }
   ],
   "execution_count": 2
  },
  {
   "metadata": {},
   "cell_type": "code",
   "outputs": [],
   "execution_count": null,
   "source": "",
   "id": "9c64f2f76190fbc2"
  }
 ],
 "metadata": {
  "kernelspec": {
   "display_name": "Python 3",
   "language": "python",
   "name": "python3"
  },
  "language_info": {
   "codemirror_mode": {
    "name": "ipython",
    "version": 2
   },
   "file_extension": ".py",
   "mimetype": "text/x-python",
   "name": "python",
   "nbconvert_exporter": "python",
   "pygments_lexer": "ipython2",
   "version": "2.7.6"
  }
 },
 "nbformat": 4,
 "nbformat_minor": 5
}
